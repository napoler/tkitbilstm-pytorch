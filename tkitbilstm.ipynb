{
  "nbformat": 4,
  "nbformat_minor": 0,
  "metadata": {
    "colab": {
      "name": "tkitbilstm.ipynb",
      "provenance": [],
      "collapsed_sections": [],
      "authorship_tag": "ABX9TyP9TltAa/wam6ddSVyhDrEk",
      "include_colab_link": true
    },
    "kernelspec": {
      "name": "python3",
      "display_name": "Python 3"
    },
    "language_info": {
      "name": "python"
    }
  },
  "cells": [
    {
      "cell_type": "markdown",
      "metadata": {
        "id": "view-in-github",
        "colab_type": "text"
      },
      "source": [
        "<a href=\"https://colab.research.google.com/github/napoler/tkitbilstm-pytorch/blob/master/tkitbilstm.ipynb\" target=\"_parent\"><img src=\"https://colab.research.google.com/assets/colab-badge.svg\" alt=\"Open In Colab\"/></a>"
      ]
    },
    {
      "cell_type": "code",
      "metadata": {
        "colab": {
          "base_uri": "https://localhost:8080/"
        },
        "id": "fxxSC77-VBIY",
        "outputId": "11324217-f665-4ae7-d444-a1ecb8edf54d"
      },
      "source": [
        "!pip install tkitbilstm==0.0.0.1.1"
      ],
      "execution_count": 4,
      "outputs": [
        {
          "output_type": "stream",
          "text": [
            "Collecting tkitbilstm==0.0.0.1.1\n",
            "  Downloading https://files.pythonhosted.org/packages/b6/83/4e886a8f954a38263ec64b6fe0c31c7a98c3c3875536f087f09047716346/tkitbilstm-0.0.0.1.1-py2.py3-none-any.whl\n",
            "Requirement already satisfied: pytorch-lightning>=1.2.10 in /usr/local/lib/python3.7/dist-packages (from tkitbilstm==0.0.0.1.1) (1.3.2)\n",
            "Requirement already satisfied: tensorboard!=2.5.0,>=2.2.0 in /usr/local/lib/python3.7/dist-packages (from pytorch-lightning>=1.2.10->tkitbilstm==0.0.0.1.1) (2.4.1)\n",
            "Requirement already satisfied: packaging in /usr/local/lib/python3.7/dist-packages (from pytorch-lightning>=1.2.10->tkitbilstm==0.0.0.1.1) (20.9)\n",
            "Requirement already satisfied: pyDeprecate==0.3.0 in /usr/local/lib/python3.7/dist-packages (from pytorch-lightning>=1.2.10->tkitbilstm==0.0.0.1.1) (0.3.0)\n",
            "Requirement already satisfied: numpy>=1.17.2 in /usr/local/lib/python3.7/dist-packages (from pytorch-lightning>=1.2.10->tkitbilstm==0.0.0.1.1) (1.19.5)\n",
            "Requirement already satisfied: future>=0.17.1 in /usr/local/lib/python3.7/dist-packages (from pytorch-lightning>=1.2.10->tkitbilstm==0.0.0.1.1) (0.18.2)\n",
            "Requirement already satisfied: tqdm>=4.41.0 in /usr/local/lib/python3.7/dist-packages (from pytorch-lightning>=1.2.10->tkitbilstm==0.0.0.1.1) (4.41.1)\n",
            "Requirement already satisfied: torch>=1.4 in /usr/local/lib/python3.7/dist-packages (from pytorch-lightning>=1.2.10->tkitbilstm==0.0.0.1.1) (1.8.1+cu101)\n",
            "Requirement already satisfied: PyYAML<=5.4.1,>=5.1 in /usr/local/lib/python3.7/dist-packages (from pytorch-lightning>=1.2.10->tkitbilstm==0.0.0.1.1) (5.4.1)\n",
            "Requirement already satisfied: torchmetrics>=0.2.0 in /usr/local/lib/python3.7/dist-packages (from pytorch-lightning>=1.2.10->tkitbilstm==0.0.0.1.1) (0.3.2)\n",
            "Requirement already satisfied: fsspec[http]>=2021.4.0 in /usr/local/lib/python3.7/dist-packages (from pytorch-lightning>=1.2.10->tkitbilstm==0.0.0.1.1) (2021.5.0)\n",
            "Requirement already satisfied: protobuf>=3.6.0 in /usr/local/lib/python3.7/dist-packages (from tensorboard!=2.5.0,>=2.2.0->pytorch-lightning>=1.2.10->tkitbilstm==0.0.0.1.1) (3.12.4)\n",
            "Requirement already satisfied: six>=1.10.0 in /usr/local/lib/python3.7/dist-packages (from tensorboard!=2.5.0,>=2.2.0->pytorch-lightning>=1.2.10->tkitbilstm==0.0.0.1.1) (1.15.0)\n",
            "Requirement already satisfied: markdown>=2.6.8 in /usr/local/lib/python3.7/dist-packages (from tensorboard!=2.5.0,>=2.2.0->pytorch-lightning>=1.2.10->tkitbilstm==0.0.0.1.1) (3.3.4)\n",
            "Requirement already satisfied: tensorboard-plugin-wit>=1.6.0 in /usr/local/lib/python3.7/dist-packages (from tensorboard!=2.5.0,>=2.2.0->pytorch-lightning>=1.2.10->tkitbilstm==0.0.0.1.1) (1.8.0)\n",
            "Requirement already satisfied: setuptools>=41.0.0 in /usr/local/lib/python3.7/dist-packages (from tensorboard!=2.5.0,>=2.2.0->pytorch-lightning>=1.2.10->tkitbilstm==0.0.0.1.1) (56.1.0)\n",
            "Requirement already satisfied: wheel>=0.26; python_version >= \"3\" in /usr/local/lib/python3.7/dist-packages (from tensorboard!=2.5.0,>=2.2.0->pytorch-lightning>=1.2.10->tkitbilstm==0.0.0.1.1) (0.36.2)\n",
            "Requirement already satisfied: grpcio>=1.24.3 in /usr/local/lib/python3.7/dist-packages (from tensorboard!=2.5.0,>=2.2.0->pytorch-lightning>=1.2.10->tkitbilstm==0.0.0.1.1) (1.34.1)\n",
            "Requirement already satisfied: requests<3,>=2.21.0 in /usr/local/lib/python3.7/dist-packages (from tensorboard!=2.5.0,>=2.2.0->pytorch-lightning>=1.2.10->tkitbilstm==0.0.0.1.1) (2.23.0)\n",
            "Requirement already satisfied: werkzeug>=0.11.15 in /usr/local/lib/python3.7/dist-packages (from tensorboard!=2.5.0,>=2.2.0->pytorch-lightning>=1.2.10->tkitbilstm==0.0.0.1.1) (1.0.1)\n",
            "Requirement already satisfied: google-auth<2,>=1.6.3 in /usr/local/lib/python3.7/dist-packages (from tensorboard!=2.5.0,>=2.2.0->pytorch-lightning>=1.2.10->tkitbilstm==0.0.0.1.1) (1.30.0)\n",
            "Requirement already satisfied: absl-py>=0.4 in /usr/local/lib/python3.7/dist-packages (from tensorboard!=2.5.0,>=2.2.0->pytorch-lightning>=1.2.10->tkitbilstm==0.0.0.1.1) (0.12.0)\n",
            "Requirement already satisfied: google-auth-oauthlib<0.5,>=0.4.1 in /usr/local/lib/python3.7/dist-packages (from tensorboard!=2.5.0,>=2.2.0->pytorch-lightning>=1.2.10->tkitbilstm==0.0.0.1.1) (0.4.4)\n",
            "Requirement already satisfied: pyparsing>=2.0.2 in /usr/local/lib/python3.7/dist-packages (from packaging->pytorch-lightning>=1.2.10->tkitbilstm==0.0.0.1.1) (2.4.7)\n",
            "Requirement already satisfied: typing-extensions in /usr/local/lib/python3.7/dist-packages (from torch>=1.4->pytorch-lightning>=1.2.10->tkitbilstm==0.0.0.1.1) (3.7.4.3)\n",
            "Requirement already satisfied: aiohttp; extra == \"http\" in /usr/local/lib/python3.7/dist-packages (from fsspec[http]>=2021.4.0->pytorch-lightning>=1.2.10->tkitbilstm==0.0.0.1.1) (3.7.4.post0)\n",
            "Requirement already satisfied: importlib-metadata; python_version < \"3.8\" in /usr/local/lib/python3.7/dist-packages (from markdown>=2.6.8->tensorboard!=2.5.0,>=2.2.0->pytorch-lightning>=1.2.10->tkitbilstm==0.0.0.1.1) (4.0.1)\n",
            "Requirement already satisfied: idna<3,>=2.5 in /usr/local/lib/python3.7/dist-packages (from requests<3,>=2.21.0->tensorboard!=2.5.0,>=2.2.0->pytorch-lightning>=1.2.10->tkitbilstm==0.0.0.1.1) (2.10)\n",
            "Requirement already satisfied: chardet<4,>=3.0.2 in /usr/local/lib/python3.7/dist-packages (from requests<3,>=2.21.0->tensorboard!=2.5.0,>=2.2.0->pytorch-lightning>=1.2.10->tkitbilstm==0.0.0.1.1) (3.0.4)\n",
            "Requirement already satisfied: certifi>=2017.4.17 in /usr/local/lib/python3.7/dist-packages (from requests<3,>=2.21.0->tensorboard!=2.5.0,>=2.2.0->pytorch-lightning>=1.2.10->tkitbilstm==0.0.0.1.1) (2020.12.5)\n",
            "Requirement already satisfied: urllib3!=1.25.0,!=1.25.1,<1.26,>=1.21.1 in /usr/local/lib/python3.7/dist-packages (from requests<3,>=2.21.0->tensorboard!=2.5.0,>=2.2.0->pytorch-lightning>=1.2.10->tkitbilstm==0.0.0.1.1) (1.24.3)\n",
            "Requirement already satisfied: pyasn1-modules>=0.2.1 in /usr/local/lib/python3.7/dist-packages (from google-auth<2,>=1.6.3->tensorboard!=2.5.0,>=2.2.0->pytorch-lightning>=1.2.10->tkitbilstm==0.0.0.1.1) (0.2.8)\n",
            "Requirement already satisfied: rsa<5,>=3.1.4; python_version >= \"3.6\" in /usr/local/lib/python3.7/dist-packages (from google-auth<2,>=1.6.3->tensorboard!=2.5.0,>=2.2.0->pytorch-lightning>=1.2.10->tkitbilstm==0.0.0.1.1) (4.7.2)\n",
            "Requirement already satisfied: cachetools<5.0,>=2.0.0 in /usr/local/lib/python3.7/dist-packages (from google-auth<2,>=1.6.3->tensorboard!=2.5.0,>=2.2.0->pytorch-lightning>=1.2.10->tkitbilstm==0.0.0.1.1) (4.2.2)\n",
            "Requirement already satisfied: requests-oauthlib>=0.7.0 in /usr/local/lib/python3.7/dist-packages (from google-auth-oauthlib<0.5,>=0.4.1->tensorboard!=2.5.0,>=2.2.0->pytorch-lightning>=1.2.10->tkitbilstm==0.0.0.1.1) (1.3.0)\n",
            "Requirement already satisfied: yarl<2.0,>=1.0 in /usr/local/lib/python3.7/dist-packages (from aiohttp; extra == \"http\"->fsspec[http]>=2021.4.0->pytorch-lightning>=1.2.10->tkitbilstm==0.0.0.1.1) (1.6.3)\n",
            "Requirement already satisfied: attrs>=17.3.0 in /usr/local/lib/python3.7/dist-packages (from aiohttp; extra == \"http\"->fsspec[http]>=2021.4.0->pytorch-lightning>=1.2.10->tkitbilstm==0.0.0.1.1) (21.2.0)\n",
            "Requirement already satisfied: async-timeout<4.0,>=3.0 in /usr/local/lib/python3.7/dist-packages (from aiohttp; extra == \"http\"->fsspec[http]>=2021.4.0->pytorch-lightning>=1.2.10->tkitbilstm==0.0.0.1.1) (3.0.1)\n",
            "Requirement already satisfied: multidict<7.0,>=4.5 in /usr/local/lib/python3.7/dist-packages (from aiohttp; extra == \"http\"->fsspec[http]>=2021.4.0->pytorch-lightning>=1.2.10->tkitbilstm==0.0.0.1.1) (5.1.0)\n",
            "Requirement already satisfied: zipp>=0.5 in /usr/local/lib/python3.7/dist-packages (from importlib-metadata; python_version < \"3.8\"->markdown>=2.6.8->tensorboard!=2.5.0,>=2.2.0->pytorch-lightning>=1.2.10->tkitbilstm==0.0.0.1.1) (3.4.1)\n",
            "Requirement already satisfied: pyasn1<0.5.0,>=0.4.6 in /usr/local/lib/python3.7/dist-packages (from pyasn1-modules>=0.2.1->google-auth<2,>=1.6.3->tensorboard!=2.5.0,>=2.2.0->pytorch-lightning>=1.2.10->tkitbilstm==0.0.0.1.1) (0.4.8)\n",
            "Requirement already satisfied: oauthlib>=3.0.0 in /usr/local/lib/python3.7/dist-packages (from requests-oauthlib>=0.7.0->google-auth-oauthlib<0.5,>=0.4.1->tensorboard!=2.5.0,>=2.2.0->pytorch-lightning>=1.2.10->tkitbilstm==0.0.0.1.1) (3.1.0)\n",
            "Installing collected packages: tkitbilstm\n",
            "  Found existing installation: tkitbilstm 0.0.0.1\n",
            "    Uninstalling tkitbilstm-0.0.0.1:\n",
            "      Successfully uninstalled tkitbilstm-0.0.0.1\n",
            "Successfully installed tkitbilstm-0.0.0.1.1\n"
          ],
          "name": "stdout"
        }
      ]
    },
    {
      "cell_type": "code",
      "metadata": {
        "colab": {
          "base_uri": "https://localhost:8080/"
        },
        "id": "KGa-FLKnVBxQ",
        "outputId": "0357dc5f-b875-4246-b70b-f3aa92ddbf80"
      },
      "source": [
        "from tkitbilstm import BiLSTMAttention\n",
        "import torch\n",
        "\n",
        "\n",
        "model=BiLSTMAttention(vocab_size=2000,dim=32,n_hidden=64,out_num_classes=128,embedding_enabled=True)\n",
        "\n",
        "\n",
        "x = torch.randint(0, 2000, (1, 148))\n",
        "# mask = torch.ones_like(x).bool()\n",
        "\n",
        "output,out,attention=model(x,) # (1, 2048, 20000)"
      ],
      "execution_count": 6,
      "outputs": [
        {
          "output_type": "execute_result",
          "data": {
            "text/plain": [
              "(tensor([[[ 0.0054, -0.0626,  0.0169,  ..., -0.1051,  0.0370,  0.2339],\n",
              "          [-0.0785, -0.0408, -0.0665,  ..., -0.0620, -0.0788,  0.0823],\n",
              "          [-0.1769, -0.0008, -0.0832,  ...,  0.0488, -0.2099,  0.0472],\n",
              "          ...,\n",
              "          [ 0.3408, -0.0599, -0.0533,  ...,  0.0709, -0.0434,  0.1368],\n",
              "          [ 0.1081,  0.1607,  0.0954,  ...,  0.0857,  0.0268,  0.1012],\n",
              "          [ 0.1492, -0.0104,  0.0253,  ..., -0.1394, -0.0886,  0.0796]]],\n",
              "        grad_fn=<PermuteBackward>),\n",
              " tensor([[-0.0312,  0.0275, -0.0458,  0.0995, -0.0093,  0.0425, -0.0217, -0.0425,\n",
              "           0.0773,  0.0588,  0.0580, -0.0436,  0.1180, -0.0335, -0.0342,  0.0111,\n",
              "           0.0340, -0.0153,  0.0028, -0.0022,  0.0658, -0.0053, -0.1098,  0.0644,\n",
              "          -0.0571,  0.0369,  0.0148,  0.0733,  0.0158, -0.0027, -0.0180, -0.0534,\n",
              "           0.0665, -0.0155,  0.0790, -0.0258,  0.0450,  0.0602, -0.0799,  0.0286,\n",
              "          -0.1049,  0.0180, -0.0437,  0.0875,  0.0424, -0.0467, -0.0823,  0.0431,\n",
              "          -0.0534, -0.0530, -0.0274, -0.0779, -0.0691, -0.0129,  0.0538,  0.0625,\n",
              "           0.0222,  0.0198, -0.0532,  0.0190, -0.0755,  0.0020, -0.0779,  0.0294,\n",
              "           0.0331,  0.0085,  0.0279,  0.0616, -0.0307, -0.0448,  0.0477,  0.0389,\n",
              "          -0.0813, -0.0372, -0.0614,  0.0325, -0.0303, -0.0891, -0.0667,  0.1334,\n",
              "          -0.1075, -0.0043, -0.1212,  0.0365, -0.0863, -0.0551,  0.0330,  0.0755,\n",
              "          -0.0792,  0.0581, -0.0843, -0.0789, -0.0475,  0.1243, -0.0587,  0.0230,\n",
              "          -0.0439,  0.0617,  0.0301,  0.0860, -0.0231,  0.0077, -0.0236, -0.0823,\n",
              "           0.0771, -0.0455, -0.0011,  0.0135, -0.0233,  0.0220,  0.0121,  0.0896,\n",
              "          -0.0525,  0.0949, -0.0169,  0.0999,  0.0749, -0.0672, -0.0755,  0.1053,\n",
              "           0.0326,  0.0066,  0.0410, -0.0191,  0.0257, -0.0592, -0.0087,  0.0097]],\n",
              "        grad_fn=<AddmmBackward>),\n",
              " array([[0.0160073 , 0.01003293, 0.00631916, 0.00580318, 0.00756886,\n",
              "         0.00523443, 0.00543025, 0.00503708, 0.00704744, 0.00570922,\n",
              "         0.00684618, 0.00808488, 0.00979677, 0.0109655 , 0.00727207,\n",
              "         0.00773664, 0.00843424, 0.00787235, 0.00621489, 0.00638048,\n",
              "         0.00662512, 0.00676308, 0.00539587, 0.00690159, 0.00470267,\n",
              "         0.00424229, 0.00527237, 0.00882166, 0.0123184 , 0.00637558,\n",
              "         0.00543535, 0.00727606, 0.00645707, 0.00666321, 0.00514744,\n",
              "         0.00608082, 0.00662467, 0.00823503, 0.0107601 , 0.00880656,\n",
              "         0.00591894, 0.00869196, 0.00761698, 0.00582789, 0.0045034 ,\n",
              "         0.0035994 , 0.00386975, 0.00352979, 0.00453899, 0.0065489 ,\n",
              "         0.00649734, 0.00821986, 0.0101488 , 0.0077894 , 0.00980033,\n",
              "         0.01122398, 0.00930194, 0.00682344, 0.00740456, 0.0073269 ,\n",
              "         0.00565453, 0.00541999, 0.00668017, 0.00748042, 0.00998368,\n",
              "         0.00650038, 0.00619551, 0.00781225, 0.00705031, 0.00634107,\n",
              "         0.00620662, 0.00447214, 0.00582819, 0.0059878 , 0.00530459,\n",
              "         0.00557471, 0.00524256, 0.00553276, 0.00501711, 0.00679318,\n",
              "         0.00722209, 0.00523542, 0.00425819, 0.00411393, 0.00682172,\n",
              "         0.0063776 , 0.008674  , 0.0067146 , 0.00846863, 0.00963232,\n",
              "         0.00800036, 0.00736458, 0.00538177, 0.00572056, 0.00531764,\n",
              "         0.00512524, 0.00451144, 0.00565335, 0.00623921, 0.00893724,\n",
              "         0.0052066 , 0.0057028 , 0.00631805, 0.00625043, 0.00511721,\n",
              "         0.00702462, 0.00660599, 0.00565192, 0.00691363, 0.00579122,\n",
              "         0.00701359, 0.00717001, 0.00627744, 0.00717364, 0.00706927,\n",
              "         0.00612805, 0.00665909, 0.00667117, 0.00424127, 0.00677408,\n",
              "         0.00635392, 0.00617374, 0.00580997, 0.00445751, 0.00601974,\n",
              "         0.00491531, 0.00594116, 0.00616995, 0.00548205, 0.00421183,\n",
              "         0.00484251, 0.00576033, 0.00600705, 0.0080816 , 0.00600943,\n",
              "         0.00638937, 0.00499207, 0.004771  , 0.00490927, 0.00818954,\n",
              "         0.00656665, 0.00642139, 0.00668519, 0.01018631, 0.00974791,\n",
              "         0.01065886, 0.00974696, 0.01201009]], dtype=float32))"
            ]
          },
          "metadata": {
            "tags": []
          },
          "execution_count": 6
        }
      ]
    },
    {
      "cell_type": "code",
      "metadata": {
        "id": "qBK2bQZ8V8Ig"
      },
      "source": [
        "help(BiLSTMAttention)"
      ],
      "execution_count": null,
      "outputs": []
    }
  ]
}